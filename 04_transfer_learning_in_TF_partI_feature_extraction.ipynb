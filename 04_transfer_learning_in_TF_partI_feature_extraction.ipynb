{
  "nbformat": 4,
  "nbformat_minor": 0,
  "metadata": {
    "colab": {
      "provenance": [],
      "gpuType": "T4",
      "authorship_tag": "ABX9TyOwoPKqlsyrH+wMPl3tCl4E",
      "include_colab_link": true
    },
    "kernelspec": {
      "name": "python3",
      "display_name": "Python 3"
    },
    "language_info": {
      "name": "python"
    },
    "accelerator": "GPU"
  },
  "cells": [
    {
      "cell_type": "markdown",
      "metadata": {
        "id": "view-in-github",
        "colab_type": "text"
      },
      "source": [
        "<a href=\"https://colab.research.google.com/github/Amelet/DeepLearning_TensorFLow/blob/main/04_transfer_learning_in_TF_partI_feature_extraction.ipynb\" target=\"_parent\"><img src=\"https://colab.research.google.com/assets/colab-badge.svg\" alt=\"Open In Colab\"/></a>"
      ]
    },
    {
      "cell_type": "code",
      "source": [
        "import tensorflow as tf\n",
        "import tensorflow_hub as hub\n",
        "from tensorflow.keras import layers\n",
        "import matplotlib.pyplot as plt\n"
      ],
      "metadata": {
        "id": "tlHAjoz01ZQm",
        "colab": {
          "base_uri": "https://localhost:8080/"
        },
        "outputId": "18c26ede-a328-491c-96e8-9e858c737765"
      },
      "execution_count": null,
      "outputs": [
        {
          "output_type": "stream",
          "name": "stderr",
          "text": [
            "Exception ignored in: <function _xla_gc_callback at 0x781074482290>\n",
            "Traceback (most recent call last):\n",
            "  File \"/usr/local/lib/python3.10/dist-packages/jax/_src/lib/__init__.py\", line 103, in _xla_gc_callback\n",
            "    def _xla_gc_callback(*args):\n",
            "KeyboardInterrupt: \n"
          ]
        }
      ]
    },
    {
      "cell_type": "code",
      "source": [
        "!nvidia-smi"
      ],
      "metadata": {
        "colab": {
          "base_uri": "https://localhost:8080/"
        },
        "id": "6usqX90AYR36",
        "outputId": "f9abd080-51e5-4423-e3ae-46fe840ef2e8"
      },
      "execution_count": null,
      "outputs": [
        {
          "output_type": "stream",
          "name": "stdout",
          "text": [
            "Tue Aug  1 09:05:13 2023       \n",
            "+-----------------------------------------------------------------------------+\n",
            "| NVIDIA-SMI 525.105.17   Driver Version: 525.105.17   CUDA Version: 12.0     |\n",
            "|-------------------------------+----------------------+----------------------+\n",
            "| GPU  Name        Persistence-M| Bus-Id        Disp.A | Volatile Uncorr. ECC |\n",
            "| Fan  Temp  Perf  Pwr:Usage/Cap|         Memory-Usage | GPU-Util  Compute M. |\n",
            "|                               |                      |               MIG M. |\n",
            "|===============================+======================+======================|\n",
            "|   0  Tesla T4            Off  | 00000000:00:04.0 Off |                    0 |\n",
            "| N/A   55C    P8    11W /  70W |      0MiB / 15360MiB |      0%      Default |\n",
            "|                               |                      |                  N/A |\n",
            "+-------------------------------+----------------------+----------------------+\n",
            "                                                                               \n",
            "+-----------------------------------------------------------------------------+\n",
            "| Processes:                                                                  |\n",
            "|  GPU   GI   CI        PID   Type   Process name                  GPU Memory |\n",
            "|        ID   ID                                                   Usage      |\n",
            "|=============================================================================|\n",
            "|  No running processes found                                                 |\n",
            "+-----------------------------------------------------------------------------+\n"
          ]
        }
      ]
    },
    {
      "cell_type": "code",
      "execution_count": null,
      "metadata": {
        "colab": {
          "base_uri": "https://localhost:8080/"
        },
        "id": "f3d3hJsjChFx",
        "outputId": "e2f6a662-12b9-4b60-c962-c7c672c708ee"
      },
      "outputs": [
        {
          "output_type": "stream",
          "name": "stdout",
          "text": [
            "--2023-08-01 09:05:13--  https://storage.googleapis.com/ztm_tf_course/food_vision/10_food_classes_10_percent.zip\n",
            "Resolving storage.googleapis.com (storage.googleapis.com)... 108.177.13.128, 74.125.26.128, 172.217.193.128, ...\n",
            "Connecting to storage.googleapis.com (storage.googleapis.com)|108.177.13.128|:443... connected.\n",
            "HTTP request sent, awaiting response... 200 OK\n",
            "Length: 168546183 (161M) [application/zip]\n",
            "Saving to: ‘10_food_classes_10_percent.zip’\n",
            "\n",
            "10_food_classes_10_ 100%[===================>] 160.74M   123MB/s    in 1.3s    \n",
            "\n",
            "2023-08-01 09:05:14 (123 MB/s) - ‘10_food_classes_10_percent.zip’ saved [168546183/168546183]\n",
            "\n"
          ]
        }
      ],
      "source": [
        "import zipfile\n",
        "\n",
        "# Download teh data\n",
        "!wget https://storage.googleapis.com/ztm_tf_course/food_vision/10_food_classes_10_percent.zip"
      ]
    },
    {
      "cell_type": "code",
      "source": [
        "# Unzip the dowloaded file\n",
        "zip_ref = zipfile.ZipFile(\"10_food_classes_10_percent.zip\")\n",
        "zip_ref.extractall()\n",
        "zip_ref.close()"
      ],
      "metadata": {
        "id": "9q0DCwy0ZKFi"
      },
      "execution_count": null,
      "outputs": []
    },
    {
      "cell_type": "code",
      "source": [
        "# walk through the downloaded data\n",
        "import os\n",
        "\n",
        "for (dirpath, dirnames, filenames) in os.walk(\"10_food_classes_10_percent\"):\n",
        "  print(f'Dirpath: {dirpath}')\n",
        "  print(f'Dirnames: {len(dirnames)}')\n",
        "  print(f'    # of files\": {len(filenames)}')\n",
        "  print('----------------------------------')"
      ],
      "metadata": {
        "colab": {
          "base_uri": "https://localhost:8080/"
        },
        "id": "MNHg3uaUZY_l",
        "outputId": "e983130e-f50a-452a-f971-2efdc68797e3"
      },
      "execution_count": null,
      "outputs": [
        {
          "output_type": "stream",
          "name": "stdout",
          "text": [
            "Dirpath: 10_food_classes_10_percent\n",
            "Dirnames: 2\n",
            "    # of files\": 0\n",
            "----------------------------------\n",
            "Dirpath: 10_food_classes_10_percent/train\n",
            "Dirnames: 10\n",
            "    # of files\": 0\n",
            "----------------------------------\n",
            "Dirpath: 10_food_classes_10_percent/train/steak\n",
            "Dirnames: 0\n",
            "    # of files\": 75\n",
            "----------------------------------\n",
            "Dirpath: 10_food_classes_10_percent/train/grilled_salmon\n",
            "Dirnames: 0\n",
            "    # of files\": 75\n",
            "----------------------------------\n",
            "Dirpath: 10_food_classes_10_percent/train/ramen\n",
            "Dirnames: 0\n",
            "    # of files\": 75\n",
            "----------------------------------\n",
            "Dirpath: 10_food_classes_10_percent/train/ice_cream\n",
            "Dirnames: 0\n",
            "    # of files\": 75\n",
            "----------------------------------\n",
            "Dirpath: 10_food_classes_10_percent/train/hamburger\n",
            "Dirnames: 0\n",
            "    # of files\": 75\n",
            "----------------------------------\n",
            "Dirpath: 10_food_classes_10_percent/train/sushi\n",
            "Dirnames: 0\n",
            "    # of files\": 75\n",
            "----------------------------------\n",
            "Dirpath: 10_food_classes_10_percent/train/chicken_curry\n",
            "Dirnames: 0\n",
            "    # of files\": 75\n",
            "----------------------------------\n",
            "Dirpath: 10_food_classes_10_percent/train/fried_rice\n",
            "Dirnames: 0\n",
            "    # of files\": 75\n",
            "----------------------------------\n",
            "Dirpath: 10_food_classes_10_percent/train/pizza\n",
            "Dirnames: 0\n",
            "    # of files\": 75\n",
            "----------------------------------\n",
            "Dirpath: 10_food_classes_10_percent/train/chicken_wings\n",
            "Dirnames: 0\n",
            "    # of files\": 75\n",
            "----------------------------------\n",
            "Dirpath: 10_food_classes_10_percent/test\n",
            "Dirnames: 10\n",
            "    # of files\": 0\n",
            "----------------------------------\n",
            "Dirpath: 10_food_classes_10_percent/test/steak\n",
            "Dirnames: 0\n",
            "    # of files\": 250\n",
            "----------------------------------\n",
            "Dirpath: 10_food_classes_10_percent/test/grilled_salmon\n",
            "Dirnames: 0\n",
            "    # of files\": 250\n",
            "----------------------------------\n",
            "Dirpath: 10_food_classes_10_percent/test/ramen\n",
            "Dirnames: 0\n",
            "    # of files\": 250\n",
            "----------------------------------\n",
            "Dirpath: 10_food_classes_10_percent/test/ice_cream\n",
            "Dirnames: 0\n",
            "    # of files\": 250\n",
            "----------------------------------\n",
            "Dirpath: 10_food_classes_10_percent/test/hamburger\n",
            "Dirnames: 0\n",
            "    # of files\": 250\n",
            "----------------------------------\n",
            "Dirpath: 10_food_classes_10_percent/test/sushi\n",
            "Dirnames: 0\n",
            "    # of files\": 250\n",
            "----------------------------------\n",
            "Dirpath: 10_food_classes_10_percent/test/chicken_curry\n",
            "Dirnames: 0\n",
            "    # of files\": 250\n",
            "----------------------------------\n",
            "Dirpath: 10_food_classes_10_percent/test/fried_rice\n",
            "Dirnames: 0\n",
            "    # of files\": 250\n",
            "----------------------------------\n",
            "Dirpath: 10_food_classes_10_percent/test/pizza\n",
            "Dirnames: 0\n",
            "    # of files\": 250\n",
            "----------------------------------\n",
            "Dirpath: 10_food_classes_10_percent/test/chicken_wings\n",
            "Dirnames: 0\n",
            "    # of files\": 250\n",
            "----------------------------------\n"
          ]
        }
      ]
    },
    {
      "cell_type": "markdown",
      "source": [
        "## Create data loaders"
      ],
      "metadata": {
        "id": "ebEmrPFiaulG"
      }
    },
    {
      "cell_type": "code",
      "source": [
        "from tensorflow.keras.preprocessing.image import ImageDataGenerator"
      ],
      "metadata": {
        "id": "iAqVn_KUbyM9"
      },
      "execution_count": null,
      "outputs": []
    },
    {
      "cell_type": "code",
      "source": [
        "IMAGE_SHAPE = (224, 224)\n",
        "BATCH_SIZE = 32\n",
        "\n",
        "train_dir = \"10_food_classes_10_percent/train/\"\n",
        "test_dir = \"10_food_classes_10_percent/test/\"\n",
        "\n",
        "train_datagen = ImageDataGenerator(rescale=1/255.)\n",
        "test_datagen = ImageDataGenerator(rescale=1/255.)\n",
        "\n",
        "print(\"train images\")\n",
        "train_data_10_percent = train_datagen.flow_from_directory(directory=train_dir,\n",
        "                                                           target_size=IMAGE_SHAPE,\n",
        "                                                           batch_size=BATCH_SIZE,\n",
        "                                                           class_mode='categorical')\n",
        "\n",
        "print(\"test images\")\n",
        "test_data_10_percent = test_datagen.flow_from_directory(test_dir,\n",
        "                                                        target_size=IMAGE_SHAPE,\n",
        "                                                        batch_size=BATCH_SIZE,\n",
        "                                                        class_mode='categorical')"
      ],
      "metadata": {
        "colab": {
          "base_uri": "https://localhost:8080/"
        },
        "id": "IhEqQXBlcBXC",
        "outputId": "fd158101-3416-4d56-cde7-bbe013953fc6"
      },
      "execution_count": null,
      "outputs": [
        {
          "output_type": "stream",
          "name": "stdout",
          "text": [
            "train images\n",
            "Found 750 images belonging to 10 classes.\n",
            "test images\n",
            "Found 2500 images belonging to 10 classes.\n"
          ]
        }
      ]
    },
    {
      "cell_type": "markdown",
      "source": [
        "### Callbacks"
      ],
      "metadata": {
        "id": "h2XOHKv8d5Rn"
      }
    },
    {
      "cell_type": "code",
      "source": [
        "# create TensorBoard callback\n",
        "import datetime\n",
        "\n",
        "def create_tensorboard_callback(dir_name, experiment_name):\n",
        "  log_dir = dir_name + \"/\" + experiment_name + \"/\" + datetime.datetime.now().strftime(\"%Y%md-%H%M%S\")\n",
        "  tensorboard_callback = tf.keras.callbacks.TensorBoard(log_dir=log_dir)\n",
        "  print(f\"saving tensorboard log files to: {log_dir}\")\n",
        "  return tensorboard_callback"
      ],
      "metadata": {
        "id": "-Be_qkB6vY7x"
      },
      "execution_count": null,
      "outputs": []
    },
    {
      "cell_type": "markdown",
      "source": [
        "### Tensorflow Hub"
      ],
      "metadata": {
        "id": "98eX_7gNw-NV"
      }
    },
    {
      "cell_type": "code",
      "source": [
        "## Creating models using TF Hub\n",
        "# comapre two models:\n",
        "resnet_url = 'https://tfhub.dev/google/imagenet/resnet_v2_50/feature_vector/5'\n",
        "efficientnet_url = 'https://tfhub.dev/tensorflow/efficientnet/b0/feature-vector/1'"
      ],
      "metadata": {
        "id": "pDvUOLedw_0d"
      },
      "execution_count": null,
      "outputs": []
    },
    {
      "cell_type": "markdown",
      "source": [
        "### Create model from a URL"
      ],
      "metadata": {
        "id": "SOtKByWO1jdd"
      }
    },
    {
      "cell_type": "code",
      "source": [
        "def create_model(model_url, num_classes=10):\n",
        "  \"\"\"\n",
        "  Takes a TensorFDlow Hub URL and create a KEras Sequential model with it.\n",
        "\n",
        "  Args:\n",
        "    model_url (str): A TF Hub feature extraction URL\n",
        "    num_classes (int): Number of output neurons in the output layer\n",
        "    should be equal to number of target classes (10)\n",
        "\n",
        "  Returns:\n",
        "    An uncompiled Keras Sequential model with model_url as feature extractor layer and\n",
        "    Dense output layer with num_classes output neurons.\n",
        "  \"\"\"\n",
        "  # Download the pretrained model and\n",
        "  feature_extraction_layer = hub.KerasLayer(model_url,\n",
        "                                           trainable=False, # freeze the already learned patterns\n",
        "                                           name = 'feature_extraction_layer',\n",
        "                                           input_shape=IMAGE_SHAPE+(3,))\n",
        "\n",
        "\n",
        "  # create our model\n",
        "  model = tf.keras.Sequential([\n",
        "      feature_extraction_layer,\n",
        "      layers.Dense(num_classes,\n",
        "                  activation=\"softmax\",\n",
        "                  name=\"output_layer\")\n",
        "  ])\n",
        "\n",
        "  return model"
      ],
      "metadata": {
        "id": "BzJ_5P6w1nN0"
      },
      "execution_count": null,
      "outputs": []
    },
    {
      "cell_type": "markdown",
      "source": [
        "# **ResNet** Feature Extraction Model"
      ],
      "metadata": {
        "id": "lZEL4Wq_11-Q"
      }
    },
    {
      "cell_type": "markdown",
      "source": [
        "Create:\n"
      ],
      "metadata": {
        "id": "9oWHn7XO4W_f"
      }
    },
    {
      "cell_type": "code",
      "source": [
        "resnet_model = create_model(resnet_url,\n",
        "                            num_classes=train_data_10_percent.num_classes)"
      ],
      "metadata": {
        "id": "3KIoAI8_3kB7"
      },
      "execution_count": null,
      "outputs": []
    },
    {
      "cell_type": "code",
      "source": [
        "resnet_model.summary()"
      ],
      "metadata": {
        "colab": {
          "base_uri": "https://localhost:8080/"
        },
        "id": "gnle7ZG33zdI",
        "outputId": "1b7a1c9a-93ff-4f53-ec39-64c567047f32"
      },
      "execution_count": null,
      "outputs": [
        {
          "output_type": "stream",
          "name": "stdout",
          "text": [
            "Model: \"sequential\"\n",
            "_________________________________________________________________\n",
            " Layer (type)                Output Shape              Param #   \n",
            "=================================================================\n",
            " feature_extraction_layer (K  (None, 2048)             23564800  \n",
            " erasLayer)                                                      \n",
            "                                                                 \n",
            " output_layer (Dense)        (None, 10)                20490     \n",
            "                                                                 \n",
            "=================================================================\n",
            "Total params: 23,585,290\n",
            "Trainable params: 20,490\n",
            "Non-trainable params: 23,564,800\n",
            "_________________________________________________________________\n"
          ]
        }
      ]
    },
    {
      "cell_type": "markdown",
      "source": [
        "Compile:"
      ],
      "metadata": {
        "id": "KQBQ7udw4Ybu"
      }
    },
    {
      "cell_type": "code",
      "source": [
        "resnet_model.compile(loss=\"categorical_crossentropy\",\n",
        "                     optimizer=tf.keras.optimizers.Adam(),\n",
        "                     metrics=[\"accuracy\"])"
      ],
      "metadata": {
        "id": "pjmD2GrX4LWt"
      },
      "execution_count": null,
      "outputs": []
    },
    {
      "cell_type": "markdown",
      "source": [
        "Fit:"
      ],
      "metadata": {
        "id": "IqFK1Vff4ySx"
      }
    },
    {
      "cell_type": "code",
      "source": [
        "dir_name = 'tensorflow_hub'\n",
        "experiment_name = 'resnet50V2'\n",
        "\n",
        "resnet_history = resnet_model.fit(train_data_10_percent,\n",
        "                                  epochs=5,\n",
        "                                  steps_per_epoch=len(train_data_10_percent),\n",
        "                                  validation_data=test_data_10_percent,\n",
        "                                  validation_steps=len(test_data_10_percent),\n",
        "                                  callbacks=[create_tensorboard_callback(dir_name, experiment_name)])"
      ],
      "metadata": {
        "colab": {
          "base_uri": "https://localhost:8080/"
        },
        "id": "ANHPDMbt4xpx",
        "outputId": "4d2376b3-f6be-45b8-ee60-5d328d1a07cb"
      },
      "execution_count": null,
      "outputs": [
        {
          "output_type": "stream",
          "name": "stdout",
          "text": [
            "saving tensorboard log files to: tensorflow_hub/resnet50V2/202308d-090532\n",
            "Epoch 1/5\n",
            "24/24 [==============================] - 27s 575ms/step - loss: 1.9845 - accuracy: 0.3187 - val_loss: 1.2555 - val_accuracy: 0.6032\n",
            "Epoch 2/5\n",
            "24/24 [==============================] - 11s 467ms/step - loss: 0.9133 - accuracy: 0.7400 - val_loss: 0.8697 - val_accuracy: 0.7284\n",
            "Epoch 3/5\n",
            "24/24 [==============================] - 11s 474ms/step - loss: 0.6273 - accuracy: 0.8227 - val_loss: 0.7605 - val_accuracy: 0.7608\n",
            "Epoch 4/5\n",
            "24/24 [==============================] - 11s 481ms/step - loss: 0.4784 - accuracy: 0.8760 - val_loss: 0.7162 - val_accuracy: 0.7724\n",
            "Epoch 5/5\n",
            "24/24 [==============================] - 11s 471ms/step - loss: 0.3800 - accuracy: 0.9133 - val_loss: 0.6828 - val_accuracy: 0.7748\n"
          ]
        }
      ]
    },
    {
      "cell_type": "code",
      "source": [
        "# Plot the validation and training data separately\n",
        "def plot_loss_curves(history):\n",
        "  \"\"\"\n",
        "  Returns separate loss curves for training and validation metrics.\n",
        "  \"\"\"\n",
        "  loss = history.history['loss']\n",
        "  val_loss = history.history['val_loss']\n",
        "\n",
        "  accuracy = history.history['accuracy']\n",
        "  val_accuracy = history.history['val_accuracy']\n",
        "\n",
        "  epochs = range(len(history.history['loss']))\n",
        "\n",
        "  # Plot loss\n",
        "  plt.subplot(1,2,1)\n",
        "  plt.plot(epochs, loss, label='training_loss')\n",
        "  plt.plot(epochs, val_loss, label='val_loss')\n",
        "  plt.title('Loss')\n",
        "  plt.xlabel('Epochs')\n",
        "  plt.legend()\n",
        "\n",
        "  # Plot accuracy\n",
        "  plt.subplot(1,2,2)\n",
        "  plt.plot(epochs, accuracy, label='training_accuracy')\n",
        "  plt.plot(epochs, val_accuracy, label='val_accuracy')\n",
        "  plt.title('Accuracy')\n",
        "  plt.xlabel('Epochs')\n",
        "  plt.legend();"
      ],
      "metadata": {
        "id": "ufOzvr4e6fvo"
      },
      "execution_count": null,
      "outputs": []
    },
    {
      "cell_type": "code",
      "source": [
        "plot_loss_curves(resnet_history)"
      ],
      "metadata": {
        "colab": {
          "base_uri": "https://localhost:8080/",
          "height": 472
        },
        "id": "cxaFrKnc68fY",
        "outputId": "e2c9fefd-7b5c-43a1-bf53-ceef5bfcfcd9"
      },
      "execution_count": null,
      "outputs": [
        {
          "output_type": "display_data",
          "data": {
            "text/plain": [
              "<Figure size 640x480 with 2 Axes>"
            ],
            "image/png": "[encoded data removed]"
          },
          "metadata": {}
        }
      ]
    },
    {
      "cell_type": "markdown",
      "source": [
        "# **ResNet** Feature Extraction Model"
      ],
      "metadata": {
        "id": "VAtNdM6-6_q8"
      }
    },
    {
      "cell_type": "code",
      "source": [
        "# create\n",
        "efficientnet_model = create_model(efficientnet_url,\n",
        "                                  num_classes=train_data_10_percent.num_classes)\n",
        "efficientnet_model.summary()"
      ],
      "metadata": {
        "colab": {
          "base_uri": "https://localhost:8080/"
        },
        "id": "rTU3lRTpBbhJ",
        "outputId": "653ddb87-8698-4459-d911-6d89ade9ee1b"
      },
      "execution_count": null,
      "outputs": [
        {
          "output_type": "stream",
          "name": "stdout",
          "text": [
            "Model: \"sequential_1\"\n",
            "_________________________________________________________________\n",
            " Layer (type)                Output Shape              Param #   \n",
            "=================================================================\n",
            " feature_extraction_layer (K  (None, 1280)             4049564   \n",
            " erasLayer)                                                      \n",
            "                                                                 \n",
            " output_layer (Dense)        (None, 10)                12810     \n",
            "                                                                 \n",
            "=================================================================\n",
            "Total params: 4,062,374\n",
            "Trainable params: 12,810\n",
            "Non-trainable params: 4,049,564\n",
            "_________________________________________________________________\n"
          ]
        }
      ]
    },
    {
      "cell_type": "code",
      "source": [
        "# learn what are the layers in the modle\n",
        "len(efficientnet_model.layers[0].weights)"
      ],
      "metadata": {
        "colab": {
          "base_uri": "https://localhost:8080/"
        },
        "id": "-YNolPuuG77H",
        "outputId": "d229ead1-5bb2-4f05-e759-e273703a62f4"
      },
      "execution_count": null,
      "outputs": [
        {
          "output_type": "execute_result",
          "data": {
            "text/plain": [
              "309"
            ]
          },
          "metadata": {},
          "execution_count": 18
        }
      ]
    },
    {
      "cell_type": "code",
      "source": [
        "# compile\n",
        "efficientnet_model.compile(loss=\"categorical_crossentropy\",\n",
        "                           optimizer=\"Adam\",\n",
        "                           metrics=[\"accuracy\"])\n",
        "\n",
        "# fit\n",
        "efficientnet_history = efficientnet_model.fit(train_data_10_percent,\n",
        "                                              epochs=10,\n",
        "                                              steps_per_epoch=len(train_data_10_percent),\n",
        "                                              validation_data=test_data_10_percent,\n",
        "                                              validation_steps=len(test_data_10_percent),\n",
        "                                              callbacks=[create_tensorboard_callback(\"tensorflow_hub\", \"efficientnetb0\")])"
      ],
      "metadata": {
        "colab": {
          "base_uri": "https://localhost:8080/"
        },
        "id": "rtDe3ytKBcTv",
        "outputId": "af376a4f-0d79-4111-8c06-544a670bc984"
      },
      "execution_count": null,
      "outputs": [
        {
          "output_type": "stream",
          "name": "stdout",
          "text": [
            "saving tensorboard log files to: tensorflow_hub/efficientnetb0/202308d-090714\n",
            "Epoch 1/10\n",
            "24/24 [==============================] - 25s 559ms/step - loss: 1.8251 - accuracy: 0.4440 - val_loss: 1.2750 - val_accuracy: 0.7316\n",
            "Epoch 2/10\n",
            "24/24 [==============================] - 10s 444ms/step - loss: 1.0452 - accuracy: 0.7587 - val_loss: 0.8628 - val_accuracy: 0.8180\n",
            "Epoch 3/10\n",
            "24/24 [==============================] - 10s 446ms/step - loss: 0.7514 - accuracy: 0.8227 - val_loss: 0.6999 - val_accuracy: 0.8416\n",
            "Epoch 4/10\n",
            "24/24 [==============================] - 13s 541ms/step - loss: 0.6053 - accuracy: 0.8520 - val_loss: 0.6130 - val_accuracy: 0.8516\n",
            "Epoch 5/10\n",
            "24/24 [==============================] - 10s 446ms/step - loss: 0.5145 - accuracy: 0.8760 - val_loss: 0.5605 - val_accuracy: 0.8604\n",
            "Epoch 6/10\n",
            "24/24 [==============================] - 11s 456ms/step - loss: 0.4457 - accuracy: 0.9093 - val_loss: 0.5250 - val_accuracy: 0.8668\n",
            "Epoch 7/10\n",
            "24/24 [==============================] - 11s 458ms/step - loss: 0.3939 - accuracy: 0.9173 - val_loss: 0.4945 - val_accuracy: 0.8664\n",
            "Epoch 8/10\n",
            "24/24 [==============================] - 10s 439ms/step - loss: 0.3493 - accuracy: 0.9360 - val_loss: 0.4767 - val_accuracy: 0.8704\n",
            "Epoch 9/10\n",
            "24/24 [==============================] - 11s 458ms/step - loss: 0.3121 - accuracy: 0.9480 - val_loss: 0.4590 - val_accuracy: 0.8736\n",
            "Epoch 10/10\n",
            "24/24 [==============================] - 13s 541ms/step - loss: 0.2822 - accuracy: 0.9547 - val_loss: 0.4459 - val_accuracy: 0.8732\n"
          ]
        }
      ]
    },
    {
      "cell_type": "code",
      "source": [
        "plot_loss_curves(efficientnet_history)"
      ],
      "metadata": {
        "colab": {
          "base_uri": "https://localhost:8080/",
          "height": 472
        },
        "id": "vR2fIdJxDJhw",
        "outputId": "fbed07db-e728-4a45-e59c-9b8d04f2518e"
      },
      "execution_count": null,
      "outputs": [
        {
          "output_type": "display_data",
          "data": {
            "text/plain": [
              "<Figure size 640x480 with 2 Axes>"
            ],
            "image/png": "[encoded data removed]"
          },
          "metadata": {}
        }
      ]
    },
    {
      "cell_type": "markdown",
      "source": [
        "# Compare result using TensorBoard\n",
        "experiment is here:  https://tensorboard.dev/experiment/z2gQofWtRsKegODPf34jpg/#scalars\n"
      ],
      "metadata": {
        "id": "TMkECYayDPqt"
      }
    },
    {
      "cell_type": "code",
      "source": [
        "# Upload TensorBoard dev record\n",
        "#!tensorboard dev upload --logdir ./tensorflow_hub/ \\\n",
        "#  --name \"EfficientNetB0 vs ResNet50V2\"  \\\n",
        "#  --description \"Compare two different TF Hub feature extraction architectures using 10% of the training data\"  \\\n",
        "#  --one_shot"
      ],
      "metadata": {
        "id": "lNoP0PjHI3Fp"
      },
      "execution_count": null,
      "outputs": []
    },
    {
      "cell_type": "code",
      "source": [
        "# check out the experiments we have\n",
        "#! tensorboard dev list"
      ],
      "metadata": {
        "id": "07Cv0Po6i_nt"
      },
      "execution_count": null,
      "outputs": []
    },
    {
      "cell_type": "code",
      "source": [
        "# delete an experiment\n",
        "# !tensorboard dev delete --experiment_id z2gQofWtRsKegODPf34jpg\n",
        "# then confirm the deletion by checking what experiment you have left\n",
        "# !tensorboard dev list"
      ],
      "metadata": {
        "id": "FENThScGjvAX"
      },
      "execution_count": null,
      "outputs": []
    },
    {
      "cell_type": "code",
      "source": [],
      "metadata": {
        "id": "kvJyCRzKXTut"
      },
      "execution_count": null,
      "outputs": []
    }
  ]
}