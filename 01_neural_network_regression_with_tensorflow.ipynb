{
  "nbformat": 4,
  "nbformat_minor": 0,
  "metadata": {
    "colab": {
      "provenance": [],
      "authorship_tag": "ABX9TyOAfXuB9YrjrEmvHDrvV8CH",
      "include_colab_link": true
    },
    "kernelspec": {
      "name": "python3",
      "display_name": "Python 3"
    },
    "language_info": {
      "name": "python"
    }
  },
  "cells": [
    {
      "cell_type": "markdown",
      "metadata": {
        "id": "view-in-github",
        "colab_type": "text"
      },
      "source": [
        "<a href=\"https://colab.research.google.com/github/Amelet/DeepLearning_TensorFLow/blob/main/01_neural_network_regression_with_tensorflow.ipynb\" target=\"_parent\"><img src=\"https://colab.research.google.com/assets/colab-badge.svg\" alt=\"Open In Colab\"/></a>"
      ]
    },
    {
      "cell_type": "markdown",
      "source": [
        "# Introduction to Regression with Neural Networks in TensorFlow\n",
        "\n",
        "Predict a numerical variable based on some combination of variables\n"
      ],
      "metadata": {
        "id": "RFkNoh3XLhb4"
      }
    },
    {
      "cell_type": "code",
      "source": [
        "# Import TensorFlow\n",
        "import tensorflow as tf\n",
        "print(tf.__version__)"
      ],
      "metadata": {
        "colab": {
          "base_uri": "https://localhost:8080/"
        },
        "id": "M2JIW4ggMG5J",
        "outputId": "0eb8b33d-4619-4fb3-f586-712f63bb750e"
      },
      "execution_count": null,
      "outputs": [
        {
          "output_type": "stream",
          "name": "stdout",
          "text": [
            "2.12.0\n"
          ]
        }
      ]
    },
    {
      "cell_type": "markdown",
      "source": [
        "## Create data to view and fit"
      ],
      "metadata": {
        "id": "oaAnGwnLMN2I"
      }
    },
    {
      "cell_type": "code",
      "source": [
        "import numpy as np\n",
        "import matplotlib.pyplot as plt\n",
        "\n",
        "# create features\n",
        "X = np.array([-7.0, -4.0, -1.0, 2.0, 5.0, 8.0, 11.0, 14.0])\n",
        "\n",
        "# create labels\n",
        "y = np.array([3.0, 6.0, 9.0, 12.0, 15.0, 18.0, 21.0, 24.0])\n",
        "\n",
        "# visualzie it\n",
        "fig = plt.figure(figsize=(3,3))\n",
        "plt.scatter(X,y)\n",
        "plt.title('Sample data visualized')\n",
        "plt.xlabel('X')\n",
        "plt.ylabel('y')\n",
        "plt.show()"
      ],
      "metadata": {
        "colab": {
          "base_uri": "https://localhost:8080/",
          "height": 333
        },
        "id": "enjCenQKMZ8f",
        "outputId": "5d4e0418-f1e6-41f7-d7be-85f845c6adfa"
      },
      "execution_count": null,
      "outputs": [
        {
          "output_type": "display_data",
          "data": {
            "text/plain": [
              "<Figure size 300x300 with 1 Axes>"
            ],
            "image/png": "[encoded data removed]"
          },
          "metadata": {}
        }
      ]
    },
    {
      "cell_type": "markdown",
      "source": [
        "## Steps of modelling with TensorFlow"
      ],
      "metadata": {
        "id": "YM_VkyCyM2zh"
      }
    },
    {
      "cell_type": "markdown",
      "source": [
        "\n",
        "1. **Create a model** - define the input and output layers, and hidden layers\n",
        "2. **Compiling a model** - define the loss function and the optimizer and evaluation metrics.\n",
        "3. **Fitting a model** - try to find relationship between X and  y\n"
      ],
      "metadata": {
        "id": "uzn0FYca-wAi"
      }
    },
    {
      "cell_type": "code",
      "source": [
        "# Get data ready\n",
        "X = tf.cast(tf.constant(X), dtype=tf.float32) # numpy has float64, we change it to 32\n",
        "y = tf.cast(tf.constant(y), dtype=tf.float32) # because layers use 32 by default\n",
        "\n",
        "# Set random seed\n",
        "tf.random.set_seed(42)\n",
        "\n",
        "#1. Create a model using the Sequential API\n",
        "model = tf.keras.Sequential([\n",
        "    tf.keras.layers.Dense(1)\n",
        "])\n",
        "# above I put layers into a list.\n",
        "# An alternative is to use model.add(tf.keras.layers.Dense(1))\n",
        "\n",
        "# 2. Compile the model\n",
        "model.compile(loss=tf.keras.losses.mae,\n",
        "              optimizer=tf.keras.optimizers.SGD(),\n",
        "              metrics=[\"mae\"]) # mean abs error, stochastic gradient descent\n",
        "\n",
        "# 3. Fit the model\n",
        "# model.fit(X, y, epochs=5) before tf 2.7.0\n",
        "model.fit(tf.expand_dims(X, axis=-1), y, epochs=5)\n"
      ],
      "metadata": {
        "colab": {
          "base_uri": "https://localhost:8080/"
        },
        "id": "5ZlQ5-G5_CE8",
        "outputId": "081782c0-f0eb-45a4-a54b-9fe0ae243450"
      },
      "execution_count": null,
      "outputs": [
        {
          "output_type": "stream",
          "name": "stdout",
          "text": [
            "Epoch 1/5\n",
            "1/1 [==============================] - 1s 608ms/step - loss: 18.9376 - mae: 18.9376\n",
            "Epoch 2/5\n",
            "1/1 [==============================] - 0s 13ms/step - loss: 18.6564 - mae: 18.6564\n",
            "Epoch 3/5\n",
            "1/1 [==============================] - 0s 12ms/step - loss: 18.3751 - mae: 18.3751\n",
            "Epoch 4/5\n",
            "1/1 [==============================] - 0s 10ms/step - loss: 18.0939 - mae: 18.0939\n",
            "Epoch 5/5\n",
            "1/1 [==============================] - 0s 11ms/step - loss: 17.8126 - mae: 17.8126\n"
          ]
        },
        {
          "output_type": "execute_result",
          "data": {
            "text/plain": [
              "<keras.callbacks.History at 0x7fe3283397e0>"
            ]
          },
          "metadata": {},
          "execution_count": 3
        }
      ]
    },
    {
      "cell_type": "code",
      "source": [
        "# prediction using our model\n",
        "x_test = np.arange(-7.0, 16.0, 1.0)\n",
        "y_pred = model.predict(x_test)\n",
        "\n",
        "fig = plt.figure(figsize=(3,3))\n",
        "plt.plot(x_test, y_pred, label='predictions')\n",
        "plt.scatter(X, y, label='train data')\n",
        "plt.legend()"
      ],
      "metadata": {
        "colab": {
          "base_uri": "https://localhost:8080/",
          "height": 326
        },
        "id": "ofsYipvkD-T2",
        "outputId": "fe292b54-31de-4247-cf90-edcd2dfc1091"
      },
      "execution_count": null,
      "outputs": [
        {
          "output_type": "stream",
          "name": "stdout",
          "text": [
            "1/1 [==============================] - 0s 77ms/step\n"
          ]
        },
        {
          "output_type": "execute_result",
          "data": {
            "text/plain": [
              "<matplotlib.legend.Legend at 0x7fe3281704c0>"
            ]
          },
          "metadata": {},
          "execution_count": 4
        },
        {
          "output_type": "display_data",
          "data": {
            "text/plain": [
              "<Figure size 300x300 with 1 Axes>"
            ],
            "image/png": "[encoded data removed]"
          },
          "metadata": {}
        }
      ]
    },
    {
      "cell_type": "markdown",
      "source": [
        "### Improving the model\n",
        "\n",
        "We improve by altering the steps we took to create a model.\n",
        "\n",
        "1. Creating a model — add more layers, increase the number of hidden units (neurons), change the activation function for each layer.\n",
        "2. Compiling the model — change optimization function or learning rate of optimization function\n",
        "3. Fitting model — more epochs or more date"
      ],
      "metadata": {
        "id": "_GdDGLEUFLWX"
      }
    },
    {
      "cell_type": "code",
      "source": [
        "# We rebuild the model\n",
        "\n",
        "# 1. Create\n",
        "model = tf.keras.Sequential([\n",
        "    tf.keras.layers.Dense(1)\n",
        "])\n",
        "\n",
        "# 2. compile\n",
        "model.compile(loss=tf.keras.losses.mae,\n",
        "              optimizer=tf.keras.optimizers.SGD(),\n",
        "              metrics=[\"mae\"])\n",
        "\n",
        "# 3. Fit\n",
        "model.fit(tf.expand_dims(X, axis=-1), y, epochs=100)\n"
      ],
      "metadata": {
        "colab": {
          "base_uri": "https://localhost:8080/"
        },
        "id": "EOH4iIdGKKtj",
        "outputId": "1503fb51-9816-4916-91b1-225a6b125749"
      },
      "execution_count": null,
      "outputs": [
        {
          "output_type": "stream",
          "name": "stdout",
          "text": [
            "Epoch 1/100\n",
            "1/1 [==============================] - 0s 351ms/step - loss: 7.8291 - mae: 7.8291\n",
            "Epoch 2/100\n",
            "1/1 [==============================] - 0s 14ms/step - loss: 7.6966 - mae: 7.6966\n",
            "Epoch 3/100\n",
            "1/1 [==============================] - 0s 13ms/step - loss: 7.5641 - mae: 7.5641\n",
            "Epoch 4/100\n",
            "1/1 [==============================] - 0s 12ms/step - loss: 7.4775 - mae: 7.4775\n",
            "Epoch 5/100\n",
            "1/1 [==============================] - 0s 12ms/step - loss: 7.4719 - mae: 7.4719\n",
            "Epoch 6/100\n",
            "1/1 [==============================] - 0s 12ms/step - loss: 7.4662 - mae: 7.4662\n",
            "Epoch 7/100\n",
            "1/1 [==============================] - 0s 14ms/step - loss: 7.4606 - mae: 7.4606\n",
            "Epoch 8/100\n",
            "1/1 [==============================] - 0s 11ms/step - loss: 7.4550 - mae: 7.4550\n",
            "Epoch 9/100\n",
            "1/1 [==============================] - 0s 11ms/step - loss: 7.4494 - mae: 7.4494\n",
            "Epoch 10/100\n",
            "1/1 [==============================] - 0s 11ms/step - loss: 7.4437 - mae: 7.4437\n",
            "Epoch 11/100\n",
            "1/1 [==============================] - 0s 10ms/step - loss: 7.4381 - mae: 7.4381\n",
            "Epoch 12/100\n",
            "1/1 [==============================] - 0s 12ms/step - loss: 7.4325 - mae: 7.4325\n",
            "Epoch 13/100\n",
            "1/1 [==============================] - 0s 11ms/step - loss: 7.4269 - mae: 7.4269\n",
            "Epoch 14/100\n",
            "1/1 [==============================] - 0s 11ms/step - loss: 7.4213 - mae: 7.4213\n",
            "Epoch 15/100\n",
            "1/1 [==============================] - 0s 11ms/step - loss: 7.4156 - mae: 7.4156\n",
            "Epoch 16/100\n",
            "1/1 [==============================] - 0s 11ms/step - loss: 7.4100 - mae: 7.4100\n",
            "Epoch 17/100\n",
            "1/1 [==============================] - 0s 14ms/step - loss: 7.4044 - mae: 7.4044\n",
            "Epoch 18/100\n",
            "1/1 [==============================] - 0s 12ms/step - loss: 7.3987 - mae: 7.3987\n",
            "Epoch 19/100\n",
            "1/1 [==============================] - 0s 12ms/step - loss: 7.3931 - mae: 7.3931\n",
            "Epoch 20/100\n",
            "1/1 [==============================] - 0s 13ms/step - loss: 7.3875 - mae: 7.3875\n",
            "Epoch 21/100\n",
            "1/1 [==============================] - 0s 12ms/step - loss: 7.3819 - mae: 7.3819\n",
            "Epoch 22/100\n",
            "1/1 [==============================] - 0s 12ms/step - loss: 7.3763 - mae: 7.3763\n",
            "Epoch 23/100\n",
            "1/1 [==============================] - 0s 10ms/step - loss: 7.3706 - mae: 7.3706\n",
            "Epoch 24/100\n",
            "1/1 [==============================] - 0s 12ms/step - loss: 7.3650 - mae: 7.3650\n",
            "Epoch 25/100\n",
            "1/1 [==============================] - 0s 9ms/step - loss: 7.3594 - mae: 7.3594\n",
            "Epoch 26/100\n",
            "1/1 [==============================] - 0s 10ms/step - loss: 7.3538 - mae: 7.3538\n",
            "Epoch 27/100\n",
            "1/1 [==============================] - 0s 11ms/step - loss: 7.3481 - mae: 7.3481\n",
            "Epoch 28/100\n",
            "1/1 [==============================] - 0s 11ms/step - loss: 7.3425 - mae: 7.3425\n",
            "Epoch 29/100\n",
            "1/1 [==============================] - 0s 12ms/step - loss: 7.3369 - mae: 7.3369\n",
            "Epoch 30/100\n",
            "1/1 [==============================] - 0s 13ms/step - loss: 7.3312 - mae: 7.3312\n",
            "Epoch 31/100\n",
            "1/1 [==============================] - 0s 14ms/step - loss: 7.3256 - mae: 7.3256\n",
            "Epoch 32/100\n",
            "1/1 [==============================] - 0s 11ms/step - loss: 7.3200 - mae: 7.3200\n",
            "Epoch 33/100\n",
            "1/1 [==============================] - 0s 13ms/step - loss: 7.3144 - mae: 7.3144\n",
            "Epoch 34/100\n",
            "1/1 [==============================] - 0s 12ms/step - loss: 7.3087 - mae: 7.3087\n",
            "Epoch 35/100\n",
            "1/1 [==============================] - 0s 12ms/step - loss: 7.3031 - mae: 7.3031\n",
            "Epoch 36/100\n",
            "1/1 [==============================] - 0s 11ms/step - loss: 7.2975 - mae: 7.2975\n",
            "Epoch 37/100\n",
            "1/1 [==============================] - 0s 11ms/step - loss: 7.2919 - mae: 7.2919\n",
            "Epoch 38/100\n",
            "1/1 [==============================] - 0s 13ms/step - loss: 7.2863 - mae: 7.2863\n",
            "Epoch 39/100\n",
            "1/1 [==============================] - 0s 16ms/step - loss: 7.2806 - mae: 7.2806\n",
            "Epoch 40/100\n",
            "1/1 [==============================] - 0s 14ms/step - loss: 7.2750 - mae: 7.2750\n",
            "Epoch 41/100\n",
            "1/1 [==============================] - 0s 12ms/step - loss: 7.2694 - mae: 7.2694\n",
            "Epoch 42/100\n",
            "1/1 [==============================] - 0s 11ms/step - loss: 7.2638 - mae: 7.2638\n",
            "Epoch 43/100\n",
            "1/1 [==============================] - 0s 10ms/step - loss: 7.2581 - mae: 7.2581\n",
            "Epoch 44/100\n",
            "1/1 [==============================] - 0s 11ms/step - loss: 7.2525 - mae: 7.2525\n",
            "Epoch 45/100\n",
            "1/1 [==============================] - 0s 11ms/step - loss: 7.2469 - mae: 7.2469\n",
            "Epoch 46/100\n",
            "1/1 [==============================] - 0s 10ms/step - loss: 7.2413 - mae: 7.2413\n",
            "Epoch 47/100\n",
            "1/1 [==============================] - 0s 13ms/step - loss: 7.2356 - mae: 7.2356\n",
            "Epoch 48/100\n",
            "1/1 [==============================] - 0s 13ms/step - loss: 7.2300 - mae: 7.2300\n",
            "Epoch 49/100\n",
            "1/1 [==============================] - 0s 12ms/step - loss: 7.2244 - mae: 7.2244\n",
            "Epoch 50/100\n",
            "1/1 [==============================] - 0s 11ms/step - loss: 7.2188 - mae: 7.2188\n",
            "Epoch 51/100\n",
            "1/1 [==============================] - 0s 10ms/step - loss: 7.2131 - mae: 7.2131\n",
            "Epoch 52/100\n",
            "1/1 [==============================] - 0s 11ms/step - loss: 7.2075 - mae: 7.2075\n",
            "Epoch 53/100\n",
            "1/1 [==============================] - 0s 11ms/step - loss: 7.2019 - mae: 7.2019\n",
            "Epoch 54/100\n",
            "1/1 [==============================] - 0s 11ms/step - loss: 7.1962 - mae: 7.1962\n",
            "Epoch 55/100\n",
            "1/1 [==============================] - 0s 11ms/step - loss: 7.1906 - mae: 7.1906\n",
            "Epoch 56/100\n",
            "1/1 [==============================] - 0s 11ms/step - loss: 7.1850 - mae: 7.1850\n",
            "Epoch 57/100\n",
            "1/1 [==============================] - 0s 10ms/step - loss: 7.1794 - mae: 7.1794\n",
            "Epoch 58/100\n",
            "1/1 [==============================] - 0s 11ms/step - loss: 7.1737 - mae: 7.1737\n",
            "Epoch 59/100\n",
            "1/1 [==============================] - 0s 11ms/step - loss: 7.1681 - mae: 7.1681\n",
            "Epoch 60/100\n",
            "1/1 [==============================] - 0s 10ms/step - loss: 7.1625 - mae: 7.1625\n",
            "Epoch 61/100\n",
            "1/1 [==============================] - 0s 9ms/step - loss: 7.1569 - mae: 7.1569\n",
            "Epoch 62/100\n",
            "1/1 [==============================] - 0s 10ms/step - loss: 7.1512 - mae: 7.1512\n",
            "Epoch 63/100\n",
            "1/1 [==============================] - 0s 11ms/step - loss: 7.1456 - mae: 7.1456\n",
            "Epoch 64/100\n",
            "1/1 [==============================] - 0s 11ms/step - loss: 7.1400 - mae: 7.1400\n",
            "Epoch 65/100\n",
            "1/1 [==============================] - 0s 11ms/step - loss: 7.1344 - mae: 7.1344\n",
            "Epoch 66/100\n",
            "1/1 [==============================] - 0s 11ms/step - loss: 7.1287 - mae: 7.1287\n",
            "Epoch 67/100\n",
            "1/1 [==============================] - 0s 10ms/step - loss: 7.1231 - mae: 7.1231\n",
            "Epoch 68/100\n",
            "1/1 [==============================] - 0s 11ms/step - loss: 7.1175 - mae: 7.1175\n",
            "Epoch 69/100\n",
            "1/1 [==============================] - 0s 12ms/step - loss: 7.1119 - mae: 7.1119\n",
            "Epoch 70/100\n",
            "1/1 [==============================] - 0s 11ms/step - loss: 7.1062 - mae: 7.1062\n",
            "Epoch 71/100\n",
            "1/1 [==============================] - 0s 11ms/step - loss: 7.1006 - mae: 7.1006\n",
            "Epoch 72/100\n",
            "1/1 [==============================] - 0s 11ms/step - loss: 7.0950 - mae: 7.0950\n",
            "Epoch 73/100\n",
            "1/1 [==============================] - 0s 11ms/step - loss: 7.0894 - mae: 7.0894\n",
            "Epoch 74/100\n",
            "1/1 [==============================] - 0s 10ms/step - loss: 7.0838 - mae: 7.0838\n",
            "Epoch 75/100\n",
            "1/1 [==============================] - 0s 10ms/step - loss: 7.0781 - mae: 7.0781\n",
            "Epoch 76/100\n",
            "1/1 [==============================] - 0s 10ms/step - loss: 7.0725 - mae: 7.0725\n",
            "Epoch 77/100\n",
            "1/1 [==============================] - 0s 11ms/step - loss: 7.0669 - mae: 7.0669\n",
            "Epoch 78/100\n",
            "1/1 [==============================] - 0s 10ms/step - loss: 7.0613 - mae: 7.0613\n",
            "Epoch 79/100\n",
            "1/1 [==============================] - 0s 10ms/step - loss: 7.0556 - mae: 7.0556\n",
            "Epoch 80/100\n",
            "1/1 [==============================] - 0s 10ms/step - loss: 7.0500 - mae: 7.0500\n",
            "Epoch 81/100\n",
            "1/1 [==============================] - 0s 12ms/step - loss: 7.0444 - mae: 7.0444\n",
            "Epoch 82/100\n",
            "1/1 [==============================] - 0s 10ms/step - loss: 7.0387 - mae: 7.0387\n",
            "Epoch 83/100\n",
            "1/1 [==============================] - 0s 11ms/step - loss: 7.0331 - mae: 7.0331\n",
            "Epoch 84/100\n",
            "1/1 [==============================] - 0s 12ms/step - loss: 7.0275 - mae: 7.0275\n",
            "Epoch 85/100\n",
            "1/1 [==============================] - 0s 10ms/step - loss: 7.0219 - mae: 7.0219\n",
            "Epoch 86/100\n",
            "1/1 [==============================] - 0s 11ms/step - loss: 7.0163 - mae: 7.0163\n",
            "Epoch 87/100\n",
            "1/1 [==============================] - 0s 10ms/step - loss: 7.0106 - mae: 7.0106\n",
            "Epoch 88/100\n",
            "1/1 [==============================] - 0s 10ms/step - loss: 7.0050 - mae: 7.0050\n",
            "Epoch 89/100\n",
            "1/1 [==============================] - 0s 12ms/step - loss: 6.9994 - mae: 6.9994\n",
            "Epoch 90/100\n",
            "1/1 [==============================] - 0s 10ms/step - loss: 6.9938 - mae: 6.9938\n",
            "Epoch 91/100\n",
            "1/1 [==============================] - 0s 10ms/step - loss: 6.9881 - mae: 6.9881\n",
            "Epoch 92/100\n",
            "1/1 [==============================] - 0s 10ms/step - loss: 6.9825 - mae: 6.9825\n",
            "Epoch 93/100\n",
            "1/1 [==============================] - 0s 11ms/step - loss: 6.9769 - mae: 6.9769\n",
            "Epoch 94/100\n",
            "1/1 [==============================] - 0s 13ms/step - loss: 6.9713 - mae: 6.9713\n",
            "Epoch 95/100\n",
            "1/1 [==============================] - 0s 10ms/step - loss: 6.9656 - mae: 6.9656\n",
            "Epoch 96/100\n",
            "1/1 [==============================] - 0s 10ms/step - loss: 6.9600 - mae: 6.9600\n",
            "Epoch 97/100\n",
            "1/1 [==============================] - 0s 10ms/step - loss: 6.9544 - mae: 6.9544\n",
            "Epoch 98/100\n",
            "1/1 [==============================] - 0s 10ms/step - loss: 6.9488 - mae: 6.9488\n",
            "Epoch 99/100\n",
            "1/1 [==============================] - 0s 10ms/step - loss: 6.9431 - mae: 6.9431\n",
            "Epoch 100/100\n",
            "1/1 [==============================] - 0s 10ms/step - loss: 6.9375 - mae: 6.9375\n"
          ]
        },
        {
          "output_type": "execute_result",
          "data": {
            "text/plain": [
              "<keras.callbacks.History at 0x7fe320f01000>"
            ]
          },
          "metadata": {},
          "execution_count": 5
        }
      ]
    },
    {
      "cell_type": "code",
      "source": [
        "# prediction using our model\n",
        "x_test = np.arange(-7.0, 16.0, 1.0)\n",
        "y_pred = model.predict(x_test)\n",
        "\n",
        "fig = plt.figure(figsize=(3,3))\n",
        "plt.plot(x_test, y_pred, label='predictions')\n",
        "plt.scatter(X, y, label='train data')\n",
        "plt.legend()"
      ],
      "metadata": {
        "colab": {
          "base_uri": "https://localhost:8080/",
          "height": 326
        },
        "id": "tfF8HSRCLxU1",
        "outputId": "af95ccdd-96b5-4e5c-f5d8-3f0f43d23ba1"
      },
      "execution_count": null,
      "outputs": [
        {
          "output_type": "stream",
          "name": "stdout",
          "text": [
            "1/1 [==============================] - 0s 56ms/step\n"
          ]
        },
        {
          "output_type": "execute_result",
          "data": {
            "text/plain": [
              "<matplotlib.legend.Legend at 0x7fe320fc2980>"
            ]
          },
          "metadata": {},
          "execution_count": 6
        },
        {
          "output_type": "display_data",
          "data": {
            "text/plain": [
              "<Figure size 300x300 with 1 Axes>"
            ],
            "image/png": "[encoded data removed]"
          },
          "metadata": {}
        }
      ]
    },
    {
      "cell_type": "code",
      "source": [
        "# We rebuild the model\n",
        "\n",
        "# 1. Create\n",
        "model = tf.keras.Sequential([\n",
        "    tf.keras.layers.Dense(100, activation=\"relu\"),\n",
        "    tf.keras.layers.Dense(100, activation=\"relu\"),\n",
        "    tf.keras.layers.Dense(1)\n",
        "])\n",
        "\n",
        "# 2. compile\n",
        "model.compile(loss=tf.keras.losses.mae,\n",
        "              optimizer=tf.keras.optimizers.Adam(learning_rate = 0.01),\n",
        "              metrics=[\"mae\"])\n",
        "\n",
        "# 3. Fit\n",
        "model.fit(tf.expand_dims(X, axis=-1), y, epochs=100)\n",
        "\n",
        "# prediction using our model\n",
        "x_test = np.arange(-7.0, 16.0, 1.0)\n",
        "y_pred = model.predict(x_test)\n",
        "\n",
        "fig = plt.figure(figsize=(3,3))\n",
        "plt.plot(x_test, y_pred, label='predictions')\n",
        "plt.scatter(X, y, label='train data')\n",
        "plt.legend()"
      ],
      "metadata": {
        "colab": {
          "base_uri": "https://localhost:8080/",
          "height": 1000
        },
        "outputId": "5a12babe-28e8-4b27-afc3-c29e131889e5",
        "id": "T2kT80KNFUae"
      },
      "execution_count": null,
      "outputs": [
        {
          "output_type": "stream",
          "name": "stdout",
          "text": [
            "Epoch 1/100\n",
            "1/1 [==============================] - 2s 2s/step - loss: 14.1715 - mae: 14.1715\n",
            "Epoch 2/100\n",
            "1/1 [==============================] - 0s 18ms/step - loss: 11.6816 - mae: 11.6816\n",
            "Epoch 3/100\n",
            "1/1 [==============================] - 0s 13ms/step - loss: 10.3514 - mae: 10.3514\n",
            "Epoch 4/100\n",
            "1/1 [==============================] - 0s 13ms/step - loss: 8.9804 - mae: 8.9804\n",
            "Epoch 5/100\n",
            "1/1 [==============================] - 0s 15ms/step - loss: 7.3539 - mae: 7.3539\n",
            "Epoch 6/100\n",
            "1/1 [==============================] - 0s 25ms/step - loss: 5.3923 - mae: 5.3923\n",
            "Epoch 7/100\n",
            "1/1 [==============================] - 0s 16ms/step - loss: 3.8631 - mae: 3.8631\n",
            "Epoch 8/100\n",
            "1/1 [==============================] - 0s 21ms/step - loss: 4.5474 - mae: 4.5474\n",
            "Epoch 9/100\n",
            "1/1 [==============================] - 0s 12ms/step - loss: 5.1818 - mae: 5.1818\n",
            "Epoch 10/100\n",
            "1/1 [==============================] - 0s 12ms/step - loss: 5.2882 - mae: 5.2882\n",
            "Epoch 11/100\n",
            "1/1 [==============================] - 0s 12ms/step - loss: 5.0155 - mae: 5.0155\n",
            "Epoch 12/100\n",
            "1/1 [==============================] - 0s 18ms/step - loss: 4.5694 - mae: 4.5694\n",
            "Epoch 13/100\n",
            "1/1 [==============================] - 0s 19ms/step - loss: 3.8733 - mae: 3.8733\n",
            "Epoch 14/100\n",
            "1/1 [==============================] - 0s 25ms/step - loss: 3.6027 - mae: 3.6027\n",
            "Epoch 15/100\n",
            "1/1 [==============================] - 0s 17ms/step - loss: 3.7004 - mae: 3.7004\n",
            "Epoch 16/100\n",
            "1/1 [==============================] - 0s 13ms/step - loss: 4.1112 - mae: 4.1112\n",
            "Epoch 17/100\n",
            "1/1 [==============================] - 0s 12ms/step - loss: 4.1083 - mae: 4.1083\n",
            "Epoch 18/100\n",
            "1/1 [==============================] - 0s 14ms/step - loss: 3.6275 - mae: 3.6275\n",
            "Epoch 19/100\n",
            "1/1 [==============================] - 0s 15ms/step - loss: 3.3600 - mae: 3.3600\n",
            "Epoch 20/100\n",
            "1/1 [==============================] - 0s 19ms/step - loss: 3.3509 - mae: 3.3509\n",
            "Epoch 21/100\n",
            "1/1 [==============================] - 0s 12ms/step - loss: 3.3760 - mae: 3.3760\n",
            "Epoch 22/100\n",
            "1/1 [==============================] - 0s 14ms/step - loss: 3.5640 - mae: 3.5640\n",
            "Epoch 23/100\n",
            "1/1 [==============================] - 0s 18ms/step - loss: 3.4033 - mae: 3.4033\n",
            "Epoch 24/100\n",
            "1/1 [==============================] - 0s 16ms/step - loss: 3.0493 - mae: 3.0493\n",
            "Epoch 25/100\n",
            "1/1 [==============================] - 0s 20ms/step - loss: 2.8358 - mae: 2.8358\n",
            "Epoch 26/100\n",
            "1/1 [==============================] - 0s 16ms/step - loss: 2.6116 - mae: 2.6116\n",
            "Epoch 27/100\n",
            "1/1 [==============================] - 0s 13ms/step - loss: 2.6337 - mae: 2.6337\n",
            "Epoch 28/100\n",
            "1/1 [==============================] - 0s 13ms/step - loss: 2.5516 - mae: 2.5516\n",
            "Epoch 29/100\n",
            "1/1 [==============================] - 0s 14ms/step - loss: 2.1916 - mae: 2.1916\n",
            "Epoch 30/100\n",
            "1/1 [==============================] - 0s 15ms/step - loss: 1.8924 - mae: 1.8924\n",
            "Epoch 31/100\n",
            "1/1 [==============================] - 0s 14ms/step - loss: 1.8671 - mae: 1.8671\n",
            "Epoch 32/100\n",
            "1/1 [==============================] - 0s 14ms/step - loss: 1.7384 - mae: 1.7384\n",
            "Epoch 33/100\n",
            "1/1 [==============================] - 0s 23ms/step - loss: 1.2851 - mae: 1.2851\n",
            "Epoch 34/100\n",
            "1/1 [==============================] - 0s 13ms/step - loss: 0.9845 - mae: 0.9845\n",
            "Epoch 35/100\n",
            "1/1 [==============================] - 0s 17ms/step - loss: 0.8743 - mae: 0.8743\n",
            "Epoch 36/100\n",
            "1/1 [==============================] - 0s 12ms/step - loss: 0.5487 - mae: 0.5487\n",
            "Epoch 37/100\n",
            "1/1 [==============================] - 0s 15ms/step - loss: 0.4211 - mae: 0.4211\n",
            "Epoch 38/100\n",
            "1/1 [==============================] - 0s 28ms/step - loss: 0.8195 - mae: 0.8195\n",
            "Epoch 39/100\n",
            "1/1 [==============================] - 0s 15ms/step - loss: 0.8460 - mae: 0.8460\n",
            "Epoch 40/100\n",
            "1/1 [==============================] - 0s 13ms/step - loss: 0.7803 - mae: 0.7803\n",
            "Epoch 41/100\n",
            "1/1 [==============================] - 0s 13ms/step - loss: 0.5065 - mae: 0.5065\n",
            "Epoch 42/100\n",
            "1/1 [==============================] - 0s 19ms/step - loss: 0.5006 - mae: 0.5006\n",
            "Epoch 43/100\n",
            "1/1 [==============================] - 0s 21ms/step - loss: 0.6200 - mae: 0.6200\n",
            "Epoch 44/100\n",
            "1/1 [==============================] - 0s 12ms/step - loss: 0.5206 - mae: 0.5206\n",
            "Epoch 45/100\n",
            "1/1 [==============================] - 0s 11ms/step - loss: 0.4963 - mae: 0.4963\n",
            "Epoch 46/100\n",
            "1/1 [==============================] - 0s 22ms/step - loss: 0.3612 - mae: 0.3612\n",
            "Epoch 47/100\n",
            "1/1 [==============================] - 0s 16ms/step - loss: 0.1901 - mae: 0.1901\n",
            "Epoch 48/100\n",
            "1/1 [==============================] - 0s 27ms/step - loss: 0.4351 - mae: 0.4351\n",
            "Epoch 49/100\n",
            "1/1 [==============================] - 0s 30ms/step - loss: 0.2642 - mae: 0.2642\n",
            "Epoch 50/100\n",
            "1/1 [==============================] - 0s 18ms/step - loss: 0.4821 - mae: 0.4821\n",
            "Epoch 51/100\n",
            "1/1 [==============================] - 0s 16ms/step - loss: 0.3047 - mae: 0.3047\n",
            "Epoch 52/100\n",
            "1/1 [==============================] - 0s 18ms/step - loss: 0.4757 - mae: 0.4757\n",
            "Epoch 53/100\n",
            "1/1 [==============================] - 0s 15ms/step - loss: 0.2691 - mae: 0.2691\n",
            "Epoch 54/100\n",
            "1/1 [==============================] - 0s 16ms/step - loss: 0.5803 - mae: 0.5803\n",
            "Epoch 55/100\n",
            "1/1 [==============================] - 0s 14ms/step - loss: 0.2776 - mae: 0.2776\n",
            "Epoch 56/100\n",
            "1/1 [==============================] - 0s 18ms/step - loss: 0.7753 - mae: 0.7753\n",
            "Epoch 57/100\n",
            "1/1 [==============================] - 0s 18ms/step - loss: 0.9225 - mae: 0.9225\n",
            "Epoch 58/100\n",
            "1/1 [==============================] - 0s 16ms/step - loss: 0.4499 - mae: 0.4499\n",
            "Epoch 59/100\n",
            "1/1 [==============================] - 0s 18ms/step - loss: 0.6695 - mae: 0.6695\n",
            "Epoch 60/100\n",
            "1/1 [==============================] - 0s 19ms/step - loss: 0.9824 - mae: 0.9824\n",
            "Epoch 61/100\n",
            "1/1 [==============================] - 0s 22ms/step - loss: 0.6976 - mae: 0.6976\n",
            "Epoch 62/100\n",
            "1/1 [==============================] - 0s 19ms/step - loss: 0.1955 - mae: 0.1955\n",
            "Epoch 63/100\n",
            "1/1 [==============================] - 0s 20ms/step - loss: 0.3359 - mae: 0.3359\n",
            "Epoch 64/100\n",
            "1/1 [==============================] - 0s 17ms/step - loss: 0.2529 - mae: 0.2529\n",
            "Epoch 65/100\n",
            "1/1 [==============================] - 0s 21ms/step - loss: 0.2472 - mae: 0.2472\n",
            "Epoch 66/100\n",
            "1/1 [==============================] - 0s 15ms/step - loss: 0.3470 - mae: 0.3470\n",
            "Epoch 67/100\n",
            "1/1 [==============================] - 0s 14ms/step - loss: 0.1622 - mae: 0.1622\n",
            "Epoch 68/100\n",
            "1/1 [==============================] - 0s 12ms/step - loss: 0.5842 - mae: 0.5842\n",
            "Epoch 69/100\n",
            "1/1 [==============================] - 0s 13ms/step - loss: 0.7977 - mae: 0.7977\n",
            "Epoch 70/100\n",
            "1/1 [==============================] - 0s 14ms/step - loss: 0.4134 - mae: 0.4134\n",
            "Epoch 71/100\n",
            "1/1 [==============================] - 0s 15ms/step - loss: 0.5523 - mae: 0.5523\n",
            "Epoch 72/100\n",
            "1/1 [==============================] - 0s 14ms/step - loss: 0.8429 - mae: 0.8429\n",
            "Epoch 73/100\n",
            "1/1 [==============================] - 0s 16ms/step - loss: 0.4998 - mae: 0.4998\n",
            "Epoch 74/100\n",
            "1/1 [==============================] - 0s 15ms/step - loss: 0.3526 - mae: 0.3526\n",
            "Epoch 75/100\n",
            "1/1 [==============================] - 0s 24ms/step - loss: 0.5645 - mae: 0.5645\n",
            "Epoch 76/100\n",
            "1/1 [==============================] - 0s 15ms/step - loss: 0.2290 - mae: 0.2290\n",
            "Epoch 77/100\n",
            "1/1 [==============================] - 0s 14ms/step - loss: 0.6426 - mae: 0.6426\n",
            "Epoch 78/100\n",
            "1/1 [==============================] - 0s 14ms/step - loss: 0.8438 - mae: 0.8438\n",
            "Epoch 79/100\n",
            "1/1 [==============================] - 0s 14ms/step - loss: 0.4492 - mae: 0.4492\n",
            "Epoch 80/100\n",
            "1/1 [==============================] - 0s 13ms/step - loss: 0.4124 - mae: 0.4124\n",
            "Epoch 81/100\n",
            "1/1 [==============================] - 0s 14ms/step - loss: 0.6301 - mae: 0.6301\n",
            "Epoch 82/100\n",
            "1/1 [==============================] - 0s 20ms/step - loss: 0.3797 - mae: 0.3797\n",
            "Epoch 83/100\n",
            "1/1 [==============================] - 0s 23ms/step - loss: 0.4383 - mae: 0.4383\n",
            "Epoch 84/100\n",
            "1/1 [==============================] - 0s 20ms/step - loss: 0.5711 - mae: 0.5711\n",
            "Epoch 85/100\n",
            "1/1 [==============================] - 0s 23ms/step - loss: 0.2758 - mae: 0.2758\n",
            "Epoch 86/100\n",
            "1/1 [==============================] - 0s 11ms/step - loss: 0.3643 - mae: 0.3643\n",
            "Epoch 87/100\n",
            "1/1 [==============================] - 0s 21ms/step - loss: 0.3573 - mae: 0.3573\n",
            "Epoch 88/100\n",
            "1/1 [==============================] - 0s 20ms/step - loss: 0.1790 - mae: 0.1790\n",
            "Epoch 89/100\n",
            "1/1 [==============================] - 0s 17ms/step - loss: 0.3190 - mae: 0.3190\n",
            "Epoch 90/100\n",
            "1/1 [==============================] - 0s 11ms/step - loss: 0.1101 - mae: 0.1101\n",
            "Epoch 91/100\n",
            "1/1 [==============================] - 0s 11ms/step - loss: 0.2259 - mae: 0.2259\n",
            "Epoch 92/100\n",
            "1/1 [==============================] - 0s 17ms/step - loss: 0.1327 - mae: 0.1327\n",
            "Epoch 93/100\n",
            "1/1 [==============================] - 0s 21ms/step - loss: 0.0790 - mae: 0.0790\n",
            "Epoch 94/100\n",
            "1/1 [==============================] - 0s 15ms/step - loss: 0.2593 - mae: 0.2593\n",
            "Epoch 95/100\n",
            "1/1 [==============================] - 0s 17ms/step - loss: 0.0732 - mae: 0.0732\n",
            "Epoch 96/100\n",
            "1/1 [==============================] - 0s 13ms/step - loss: 0.0956 - mae: 0.0956\n",
            "Epoch 97/100\n",
            "1/1 [==============================] - 0s 19ms/step - loss: 0.3696 - mae: 0.3696\n",
            "Epoch 98/100\n",
            "1/1 [==============================] - 0s 16ms/step - loss: 0.2772 - mae: 0.2772\n",
            "Epoch 99/100\n",
            "1/1 [==============================] - 0s 14ms/step - loss: 0.3220 - mae: 0.3220\n",
            "Epoch 100/100\n",
            "1/1 [==============================] - 0s 19ms/step - loss: 0.3344 - mae: 0.3344\n",
            "1/1 [==============================] - 0s 106ms/step\n"
          ]
        },
        {
          "output_type": "execute_result",
          "data": {
            "text/plain": [
              "<matplotlib.legend.Legend at 0x7fe3205bda80>"
            ]
          },
          "metadata": {},
          "execution_count": 7
        },
        {
          "output_type": "display_data",
          "data": {
            "text/plain": [
              "<Figure size 300x300 with 1 Axes>"
            ],
            "image/png": "[encoded data removed]"
          },
          "metadata": {}
        }
      ]
    },
    {
      "cell_type": "markdown",
      "source": [
        "## Visualizing the model"
      ],
      "metadata": {
        "id": "qY-g3vd4Ffsr"
      }
    },
    {
      "cell_type": "code",
      "source": [
        "model.summary()"
      ],
      "metadata": {
        "colab": {
          "base_uri": "https://localhost:8080/"
        },
        "id": "swRuZPRMR6-c",
        "outputId": "f170ff39-97b7-4865-d340-ed16f9b8dd31"
      },
      "execution_count": null,
      "outputs": [
        {
          "output_type": "stream",
          "name": "stdout",
          "text": [
            "Model: \"sequential_2\"\n",
            "_________________________________________________________________\n",
            " Layer (type)                Output Shape              Param #   \n",
            "=================================================================\n",
            " dense_2 (Dense)             (None, 100)               200       \n",
            "                                                                 \n",
            " dense_3 (Dense)             (None, 100)               10100     \n",
            "                                                                 \n",
            " dense_4 (Dense)             (None, 1)                 101       \n",
            "                                                                 \n",
            "=================================================================\n",
            "Total params: 10,401\n",
            "Trainable params: 10,401\n",
            "Non-trainable params: 0\n",
            "_________________________________________________________________\n"
          ]
        }
      ]
    },
    {
      "cell_type": "code",
      "source": [
        "# let's create a model which builds automatically by defining the input_shape argument\n",
        "tf.random.set_seed(42)\n",
        "\n",
        "# 1. Create a model (same as above)\n",
        "model = tf.keras.Sequential([\n",
        "    tf.keras.layers.Dense(1, input_shape=[1])\n",
        "])\n",
        "\n",
        "# 2. Compile the model (same as above)\n",
        "model.compile(loss=tf.keras.losses.mae,\n",
        "              optimizer=tf.keras.optimizers.SGD(),\n",
        "              metrics=[\"mae\"])\n",
        "\n",
        "# 3.\n",
        "model.summary()\n",
        "\n",
        "# 3. Fit\n",
        "model.fit(tf.expand_dims(X, axis=-1), y, epochs=100, verbose=0)\n",
        "\n",
        "# prediction using our model\n",
        "x_test = np.arange(-7.0, 16.0, 1.0)\n",
        "y_pred = model.predict(x_test)\n",
        "\n",
        "fig = plt.figure(figsize=(3,3))\n",
        "plt.plot(x_test, y_pred, label='predictions')\n",
        "plt.scatter(X, y, label='train data')\n",
        "plt.legend()\n",
        "\n",
        "\n",
        "# Get the weights\n",
        "weights = model.layers[0].get_weights()[0]\n",
        "biases = model.layers[0].get_weights()[1]\n",
        "print(\"Weights:\", weights)\n",
        "print(\"Biases:\", biases)\n",
        "\n",
        "plt.plot(x_test, x_test*weights[0] + biases[0], 'r--', label='model')\n",
        "plt.show()"
      ],
      "metadata": {
        "colab": {
          "base_uri": "https://localhost:8080/",
          "height": 534
        },
        "id": "Y0ZN11rvSACc",
        "outputId": "ea40bd47-ad78-4351-880a-db3620c3d672"
      },
      "execution_count": null,
      "outputs": [
        {
          "output_type": "stream",
          "name": "stdout",
          "text": [
            "Model: \"sequential_3\"\n",
            "_________________________________________________________________\n",
            " Layer (type)                Output Shape              Param #   \n",
            "=================================================================\n",
            " dense_5 (Dense)             (None, 1)                 2         \n",
            "                                                                 \n",
            "=================================================================\n",
            "Total params: 2\n",
            "Trainable params: 2\n",
            "Non-trainable params: 0\n",
            "_________________________________________________________________\n",
            "1/1 [==============================] - 0s 155ms/step\n",
            "Weights: [[1.7231083]]\n",
            "Biases: [0.8324995]\n"
          ]
        },
        {
          "output_type": "display_data",
          "data": {
            "text/plain": [
              "<Figure size 300x300 with 1 Axes>"
            ],
            "image/png": "[encoded data removed]"
          },
          "metadata": {}
        }
      ]
    },
    {
      "cell_type": "markdown",
      "source": [
        "# Full cycle to build and visualize model\n"
      ],
      "metadata": {
        "id": "7zN0bvCxjxCK"
      }
    },
    {
      "cell_type": "code",
      "source": [
        "# Create data set\n",
        "X = tf.range(-100, 100, 4)\n",
        "y = X + 10\n",
        "\n",
        "X = tf.cast(tf.constant(X), dtype=tf.float32)\n",
        "y = tf.cast(tf.constant(y), dtype=tf.float32)\n",
        "\n",
        "# Split into test and train (basic for now)\n",
        "X_train = X[:40]\n",
        "y_train = y[:40]\n",
        "\n",
        "X_test = X[40:]\n",
        "y_test = y[40:]\n",
        "\n",
        "# 1. Create a model\n",
        "model = tf.keras.Sequential([\n",
        "    tf.keras.layers.Dense(10, input_shape=[1], name=\"input_layer\"),\n",
        "    tf.keras.layers.Dense(1, name=\"output_layer\")\n",
        "], name='Regression_Model')\n",
        "\n",
        "# 2. Compile the model\n",
        "model.compile(loss=tf.keras.losses.mae,\n",
        "              optimizer=tf.keras.optimizers.SGD(),\n",
        "              metrics=[\"mae\"])\n",
        "\n",
        "# Show Model Summary\n",
        "model.summary()"
      ],
      "metadata": {
        "colab": {
          "base_uri": "https://localhost:8080/"
        },
        "id": "3mzNjMrzef7v",
        "outputId": "8fcfed0e-286e-462a-86a9-a77e0a4030e8"
      },
      "execution_count": null,
      "outputs": [
        {
          "output_type": "stream",
          "name": "stdout",
          "text": [
            "Model: \"Regression_Model\"\n",
            "_________________________________________________________________\n",
            " Layer (type)                Output Shape              Param #   \n",
            "=================================================================\n",
            " input_layer (Dense)         (None, 10)                20        \n",
            "                                                                 \n",
            " output_layer (Dense)        (None, 1)                 11        \n",
            "                                                                 \n",
            "=================================================================\n",
            "Total params: 31\n",
            "Trainable params: 31\n",
            "Non-trainable params: 0\n",
            "_________________________________________________________________\n"
          ]
        }
      ]
    },
    {
      "cell_type": "code",
      "source": [
        "# 3. Fit\n",
        "model.fit(tf.expand_dims(X_test, axis=-1), y_test, epochs=100, verbose=0)\n",
        "\n",
        "# Show SCHEME of a model\n",
        "from tensorflow.keras.utils import plot_model\n",
        "plot_model(model=model, show_shapes=True)"
      ],
      "metadata": {
        "colab": {
          "base_uri": "https://localhost:8080/",
          "height": 312
        },
        "id": "kWwBKVejTOx_",
        "outputId": "524f0a46-c918-4341-9d45-e6bb593ab21f"
      },
      "execution_count": null,
      "outputs": [
        {
          "output_type": "execute_result",
          "data": {
            "image/png": "[encoded data removed]",
            "text/plain": [
              "<IPython.core.display.Image object>"
            ]
          },
          "metadata": {},
          "execution_count": 11
        }
      ]
    },
    {
      "cell_type": "code",
      "source": [
        "# 4. predict\n",
        "y_pred = tf.constant(model.predict(X_test))\n",
        "y_pred"
      ],
      "metadata": {
        "colab": {
          "base_uri": "https://localhost:8080/"
        },
        "id": "p4SbpSh9cf4W",
        "outputId": "c6d4fb3f-aefe-48bc-9249-64de72b02a69"
      },
      "execution_count": null,
      "outputs": [
        {
          "output_type": "stream",
          "name": "stderr",
          "text": [
            "WARNING:tensorflow:5 out of the last 5 calls to <function Model.make_predict_function.<locals>.predict_function at 0x7fe322e55240> triggered tf.function retracing. Tracing is expensive and the excessive number of tracings could be due to (1) creating @tf.function repeatedly in a loop, (2) passing tensors with different shapes, (3) passing Python objects instead of tensors. For (1), please define your @tf.function outside of the loop. For (2), @tf.function has reduce_retracing=True option that can avoid unnecessary retracing. For (3), please refer to https://www.tensorflow.org/guide/function#controlling_retracing and https://www.tensorflow.org/api_docs/python/tf/function for  more details.\n"
          ]
        },
        {
          "output_type": "stream",
          "name": "stdout",
          "text": [
            "1/1 [==============================] - 0s 75ms/step\n"
          ]
        },
        {
          "output_type": "execute_result",
          "data": {
            "text/plain": [
              "<tf.Tensor: shape=(10, 1), dtype=float32, numpy=\n",
              "array([[5.8296814],\n",
              "       [6.189084 ],\n",
              "       [6.5484867],\n",
              "       [6.9078894],\n",
              "       [7.267292 ],\n",
              "       [7.626695 ],\n",
              "       [7.986097 ],\n",
              "       [8.3455   ],\n",
              "       [8.704903 ],\n",
              "       [9.064305 ]], dtype=float32)>"
            ]
          },
          "metadata": {},
          "execution_count": 12
        }
      ]
    },
    {
      "cell_type": "code",
      "source": [
        "# plotting function\n",
        "def plot_predictions(train_data=X_train,\n",
        "                     train_labels=y_train,\n",
        "                     test_data=X_test,\n",
        "                     test_labels=y_test,\n",
        "                     predictions=y_pred):\n",
        "  \"\"\"\n",
        "  Plots test, train data, and predictions\n",
        "  \"\"\"\n",
        "  fig = plt.figure(figsize=(5,3))\n",
        "  plt.scatter(train_data, train_labels, c=\"b\", label=\"Training data\")\n",
        "  plt.scatter(test_data, test_labels, c=\"g\", label=\"Test data\")\n",
        "  plt.scatter(test_data, predictions, c=\"r\", label=\"Predictions\")\n",
        "  plt.legend()\n",
        "  plt.show()"
      ],
      "metadata": {
        "id": "3_0pvxpGhKRQ"
      },
      "execution_count": null,
      "outputs": []
    },
    {
      "cell_type": "code",
      "source": [
        "plot_predictions(train_data=X_train,\n",
        "                     train_labels=y_train,\n",
        "                     test_data=X_test,\n",
        "                     test_labels=y_test,\n",
        "                     predictions=y_pred)"
      ],
      "metadata": {
        "colab": {
          "base_uri": "https://localhost:8080/",
          "height": 291
        },
        "id": "I9dEQezli0zw",
        "outputId": "81ecb84d-092d-44ff-d6b6-82df475eac08"
      },
      "execution_count": null,
      "outputs": [
        {
          "output_type": "display_data",
          "data": {
            "text/plain": [
              "<Figure size 500x300 with 1 Axes>"
            ],
            "image/png": "[encoded data removed]"
          },
          "metadata": {}
        }
      ]
    },
    {
      "cell_type": "markdown",
      "source": [
        "## Evaluate the model"
      ],
      "metadata": {
        "id": "np9greg8yV8w"
      }
    },
    {
      "cell_type": "code",
      "source": [
        "# evaluate the model\n",
        "model.evaluate(X_test, y_test)"
      ],
      "metadata": {
        "colab": {
          "base_uri": "https://localhost:8080/"
        },
        "id": "Qn6Da_OHi3q4",
        "outputId": "7f00d795-e095-41cd-c2c3-aaaccf7fa9c0"
      },
      "execution_count": null,
      "outputs": [
        {
          "output_type": "stream",
          "name": "stdout",
          "text": [
            "1/1 [==============================] - 0s 283ms/step - loss: 80.5530 - mae: 80.5530\n"
          ]
        },
        {
          "output_type": "execute_result",
          "data": {
            "text/plain": [
              "[80.55301666259766, 80.55301666259766]"
            ]
          },
          "metadata": {},
          "execution_count": 15
        }
      ]
    },
    {
      "cell_type": "code",
      "source": [
        "# make sure that both tensors have the same shape\n",
        "# y_test shape=(10,)\n",
        "# y_pred shape=(10, 1)\n",
        "# we are going to squeeze\n",
        "# y_pred = tf.squeeze(y_pred)"
      ],
      "metadata": {
        "id": "9JnoNgIorstO"
      },
      "execution_count": null,
      "outputs": []
    },
    {
      "cell_type": "code",
      "source": [
        "# calculate the mean absolute error\n",
        "tf.metrics.MAE(y_test, tf.squeeze(y_pred))"
      ],
      "metadata": {
        "colab": {
          "base_uri": "https://localhost:8080/"
        },
        "id": "I47TqSTOsaK3",
        "outputId": "be7805af-2bb8-402b-a71e-a9647a4ce12c"
      },
      "execution_count": null,
      "outputs": [
        {
          "output_type": "execute_result",
          "data": {
            "text/plain": [
              "<tf.Tensor: shape=(), dtype=float32, numpy=80.55301>"
            ]
          },
          "metadata": {},
          "execution_count": 17
        }
      ]
    },
    {
      "cell_type": "code",
      "source": [
        "y_test, y_pred"
      ],
      "metadata": {
        "colab": {
          "base_uri": "https://localhost:8080/"
        },
        "id": "qOfWL5WXvMEZ",
        "outputId": "5a1539e4-8eaf-4e54-b7ff-c5f10742c9c2"
      },
      "execution_count": null,
      "outputs": [
        {
          "output_type": "execute_result",
          "data": {
            "text/plain": [
              "(<tf.Tensor: shape=(10,), dtype=float32, numpy=\n",
              " array([ 70.,  74.,  78.,  82.,  86.,  90.,  94.,  98., 102., 106.],\n",
              "       dtype=float32)>,\n",
              " <tf.Tensor: shape=(10, 1), dtype=float32, numpy=\n",
              " array([[5.8296814],\n",
              "        [6.189084 ],\n",
              "        [6.5484867],\n",
              "        [6.9078894],\n",
              "        [7.267292 ],\n",
              "        [7.626695 ],\n",
              "        [7.986097 ],\n",
              "        [8.3455   ],\n",
              "        [8.704903 ],\n",
              "        [9.064305 ]], dtype=float32)>)"
            ]
          },
          "metadata": {},
          "execution_count": 18
        }
      ]
    },
    {
      "cell_type": "markdown",
      "source": [
        "### Save model"
      ],
      "metadata": {
        "id": "NiP7dkJXukU8"
      }
    },
    {
      "cell_type": "code",
      "source": [
        "model.save(\"01_SimpleRegression\")"
      ],
      "metadata": {
        "colab": {
          "base_uri": "https://localhost:8080/"
        },
        "id": "4j_1e5hca2lo",
        "outputId": "4082d914-1b98-4eed-a2dd-faec3b4479df"
      },
      "execution_count": null,
      "outputs": [
        {
          "output_type": "stream",
          "name": "stderr",
          "text": [
            "WARNING:absl:Found untraced functions such as _update_step_xla while saving (showing 1 of 1). These functions will not be directly callable after loading.\n"
          ]
        }
      ]
    },
    {
      "cell_type": "code",
      "source": [
        "model.save(\"01_SimpleRegression.h5\")"
      ],
      "metadata": {
        "id": "J6RAkf4SbBw5"
      },
      "execution_count": null,
      "outputs": []
    },
    {
      "cell_type": "markdown",
      "source": [
        "### Load model"
      ],
      "metadata": {
        "id": "6yx_Z3ktbuOM"
      }
    },
    {
      "cell_type": "code",
      "source": [
        "loaded_model = tf.keras.models.load_model(\"/content/01_SimpleRegression\")\n",
        "loaded_model.summary()"
      ],
      "metadata": {
        "colab": {
          "base_uri": "https://localhost:8080/"
        },
        "id": "OoNoJaLrc5OB",
        "outputId": "521a913e-3745-48c3-98bb-f3b649da6421"
      },
      "execution_count": null,
      "outputs": [
        {
          "output_type": "stream",
          "name": "stdout",
          "text": [
            "Model: \"Regression_Model\"\n",
            "_________________________________________________________________\n",
            " Layer (type)                Output Shape              Param #   \n",
            "=================================================================\n",
            " input_layer (Dense)         (None, 10)                20        \n",
            "                                                                 \n",
            " output_layer (Dense)        (None, 1)                 11        \n",
            "                                                                 \n",
            "=================================================================\n",
            "Total params: 31\n",
            "Trainable params: 31\n",
            "Non-trainable params: 0\n",
            "_________________________________________________________________\n"
          ]
        }
      ]
    },
    {
      "cell_type": "code",
      "source": [
        "y_pred_loaded = tf.constant(loaded_model.predict(X_test))\n",
        "y_pred_loaded == y_pred"
      ],
      "metadata": {
        "colab": {
          "base_uri": "https://localhost:8080/"
        },
        "id": "WHD4cdhldKHT",
        "outputId": "a5b37687-8183-4441-d0bf-a90c6ae26a75"
      },
      "execution_count": null,
      "outputs": [
        {
          "output_type": "stream",
          "name": "stderr",
          "text": [
            "WARNING:tensorflow:6 out of the last 6 calls to <function Model.make_predict_function.<locals>.predict_function at 0x7fe31ba14940> triggered tf.function retracing. Tracing is expensive and the excessive number of tracings could be due to (1) creating @tf.function repeatedly in a loop, (2) passing tensors with different shapes, (3) passing Python objects instead of tensors. For (1), please define your @tf.function outside of the loop. For (2), @tf.function has reduce_retracing=True option that can avoid unnecessary retracing. For (3), please refer to https://www.tensorflow.org/guide/function#controlling_retracing and https://www.tensorflow.org/api_docs/python/tf/function for  more details.\n"
          ]
        },
        {
          "output_type": "stream",
          "name": "stdout",
          "text": [
            "1/1 [==============================] - 1s 541ms/step\n"
          ]
        },
        {
          "output_type": "execute_result",
          "data": {
            "text/plain": [
              "<tf.Tensor: shape=(10, 1), dtype=bool, numpy=\n",
              "array([[ True],\n",
              "       [ True],\n",
              "       [ True],\n",
              "       [ True],\n",
              "       [ True],\n",
              "       [ True],\n",
              "       [ True],\n",
              "       [ True],\n",
              "       [ True],\n",
              "       [ True]])>"
            ]
          },
          "metadata": {},
          "execution_count": 22
        }
      ]
    },
    {
      "cell_type": "code",
      "source": [
        "loaded_model_h5 = tf.keras.models.load_model(\"/content/01_SimpleRegression.h5\")\n",
        "loaded_model_h5.summary()\n",
        "y_pred_loaded_h5 = tf.constant(loaded_model_h5.predict(X_test))\n",
        "y_pred_loaded_h5 == y_pred"
      ],
      "metadata": {
        "colab": {
          "base_uri": "https://localhost:8080/"
        },
        "id": "YGdw1ORqdib2",
        "outputId": "8ffde581-521c-4702-ca42-f9a491637cfb"
      },
      "execution_count": null,
      "outputs": [
        {
          "output_type": "stream",
          "name": "stdout",
          "text": [
            "Model: \"Regression_Model\"\n",
            "_________________________________________________________________\n",
            " Layer (type)                Output Shape              Param #   \n",
            "=================================================================\n",
            " input_layer (Dense)         (None, 10)                20        \n",
            "                                                                 \n",
            " output_layer (Dense)        (None, 1)                 11        \n",
            "                                                                 \n",
            "=================================================================\n",
            "Total params: 31\n",
            "Trainable params: 31\n",
            "Non-trainable params: 0\n",
            "_________________________________________________________________\n",
            "1/1 [==============================] - 0s 115ms/step\n"
          ]
        },
        {
          "output_type": "execute_result",
          "data": {
            "text/plain": [
              "<tf.Tensor: shape=(10, 1), dtype=bool, numpy=\n",
              "array([[ True],\n",
              "       [ True],\n",
              "       [ True],\n",
              "       [ True],\n",
              "       [ True],\n",
              "       [ True],\n",
              "       [ True],\n",
              "       [ True],\n",
              "       [ True],\n",
              "       [ True]])>"
            ]
          },
          "metadata": {},
          "execution_count": 23
        }
      ]
    },
    {
      "cell_type": "markdown",
      "source": [
        "## Download the model from Google Colab"
      ],
      "metadata": {
        "id": "nChTInTxfj5p"
      }
    },
    {
      "cell_type": "code",
      "source": [
        "from google.colab import files\n",
        "files.download(\"/content/01_SimpleRegression.h5\")"
      ],
      "metadata": {
        "colab": {
          "base_uri": "https://localhost:8080/",
          "height": 17
        },
        "id": "OBQFT_migUBt",
        "outputId": "79bd15c2-7904-45f2-8074-304520458798"
      },
      "execution_count": null,
      "outputs": [
        {
          "output_type": "display_data",
          "data": {
            "text/plain": [
              "<IPython.core.display.Javascript object>"
            ],
            "application/javascript": [
              "\n",
              "    async function download(id, filename, size) {\n",
              "      if (!google.colab.kernel.accessAllowed) {\n",
              "        return;\n",
              "      }\n",
              "      const div = document.createElement('div');\n",
              "      const label = document.createElement('label');\n",
              "      label.textContent = `Downloading \"${filename}\": `;\n",
              "      div.appendChild(label);\n",
              "      const progress = document.createElement('progress');\n",
              "      progress.max = size;\n",
              "      div.appendChild(progress);\n",
              "      document.body.appendChild(div);\n",
              "\n",
              "      const buffers = [];\n",
              "      let downloaded = 0;\n",
              "\n",
              "      const channel = await google.colab.kernel.comms.open(id);\n",
              "      // Send a message to notify the kernel that we're ready.\n",
              "      channel.send({})\n",
              "\n",
              "      for await (const message of channel.messages) {\n",
              "        // Send a message to notify the kernel that we're ready.\n",
              "        channel.send({})\n",
              "        if (message.buffers) {\n",
              "          for (const buffer of message.buffers) {\n",
              "            buffers.push(buffer);\n",
              "            downloaded += buffer.byteLength;\n",
              "            progress.value = downloaded;\n",
              "          }\n",
              "        }\n",
              "      }\n",
              "      const blob = new Blob(buffers, {type: 'application/binary'});\n",
              "      const a = document.createElement('a');\n",
              "      a.href = window.URL.createObjectURL(blob);\n",
              "      a.download = filename;\n",
              "      div.appendChild(a);\n",
              "      a.click();\n",
              "      div.remove();\n",
              "    }\n",
              "  "
            ]
          },
          "metadata": {}
        },
        {
          "output_type": "display_data",
          "data": {
            "text/plain": [
              "<IPython.core.display.Javascript object>"
            ],
            "application/javascript": [
              "download(\"download_4c0dd448-1c04-4255-afff-26db249cbdd5\", \"01_SimpleRegression.h5\", 21952)"
            ]
          },
          "metadata": {}
        }
      ]
    },
    {
      "cell_type": "code",
      "source": [
        "# Mount Google drive first\n",
        "!cp /content/01_SimpleRegression.h5 /content/ttt"
      ],
      "metadata": {
        "id": "Re-iojqOhHaA"
      },
      "execution_count": null,
      "outputs": []
    },
    {
      "cell_type": "code",
      "source": [],
      "metadata": {
        "id": "Nh_y1Z9Hhtx_"
      },
      "execution_count": null,
      "outputs": []
    }
  ]
}